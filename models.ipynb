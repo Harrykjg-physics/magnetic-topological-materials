{
 "cells": [
  {
   "cell_type": "markdown",
   "metadata": {},
   "source": [
    "# Machine learning models for magnetic and topological property prediction in transition metal oxides.\n",
    "* Build a classifier that predicts FM vs AFM ground states from structure and composition features.\n",
    "* Build a classifier (using structure and composition features) that predicts if a magnetic material has nontrivial band topology for some value of Hubbard $U$.\n",
    "\n",
    "This notebook accompanies (Frey *et al*., High-throughput search for magnetic and topological order in transition metal oxides)"
   ]
  },
  {
   "cell_type": "code",
   "execution_count": 1,
   "metadata": {},
   "outputs": [],
   "source": [
    "__author__ = \"Nathan C. Frey\"\n",
    "__copyright__ = \"MIT License\"\n",
    "__version__ = \"0.0.1\"\n",
    "__maintainer__ = \"Nathan C. Frey\"\n",
    "__email__ = \"ncfrey@lbl.gov\"\n",
    "__date__ = \"May 5 2020\""
   ]
  },
  {
   "cell_type": "code",
   "execution_count": 2,
   "metadata": {},
   "outputs": [],
   "source": [
    "# Check requirements.txt for version requirements\n",
    "import pandas as pd\n",
    "import numpy as np\n",
    "\n",
    "from sklearn.ensemble import RandomForestClassifier\n",
    "from sklearn.model_selection import KFold\n",
    "from sklearn.metrics import f1_score, classification_report\n",
    "\n",
    "from joblib import dump, load\n",
    "\n",
    "from monty.serialization import loadfn, dumpfn"
   ]
  },
  {
   "cell_type": "markdown",
   "metadata": {},
   "source": [
    "### Machine learning model for predicting magnetic ground state ordering"
   ]
  },
  {
   "cell_type": "code",
   "execution_count": 3,
   "metadata": {},
   "outputs": [],
   "source": [
    "datadir = \"data/\"\n",
    "modeldir = \"models/\""
   ]
  },
  {
   "cell_type": "code",
   "execution_count": 4,
   "metadata": {},
   "outputs": [],
   "source": [
    "X_train = pd.read_json(datadir + 'X_train.json')\n",
    "X_train = X_train.values\n",
    "y_train = loadfn(datadir + 'y_train.json')"
   ]
  },
  {
   "cell_type": "markdown",
   "metadata": {},
   "source": [
    "Most important features to consider are values and averages of:\n",
    "* Number of magnetic sublattices  \n",
    "* Sine Coulomb Matrix  \n",
    "* Nearest-neighbor and next-nearest-neighbor distances between magnetic ions \n",
    "* Number of unfilled $d$ orbitals\n",
    "* Coordination number of magnetic ions  \n",
    "* Structural complexity per atom\n",
    "* Spacegroup number"
   ]
  },
  {
   "cell_type": "code",
   "execution_count": 5,
   "metadata": {},
   "outputs": [],
   "source": [
    "clf = load(modeldir + 'mag_clf.joblib')"
   ]
  },
  {
   "cell_type": "code",
   "execution_count": 6,
   "metadata": {},
   "outputs": [
    {
     "name": "stdout",
     "output_type": "stream",
     "text": [
      "[fold 0] FM score: 0.854\n",
      "[fold 0] AFM score: 0.845\n",
      "[fold 1] FM score: 0.872\n",
      "[fold 1] AFM score: 0.850\n",
      "[fold 2] FM score: 0.843\n",
      "[fold 2] AFM score: 0.841\n",
      "[fold 3] FM score: 0.857\n",
      "[fold 3] AFM score: 0.855\n",
      "[fold 4] FM score: 0.831\n",
      "[fold 4] AFM score: 0.833\n",
      "FM Mean: 0.85 median: 0.85 stdev: 0.01\n",
      "AFM Mean: 0.84 median: 0.84 stdev: 0.01\n"
     ]
    }
   ],
   "source": [
    "fm_scores = []\n",
    "afm_scores = []\n",
    "\n",
    "kf = KFold(n_splits=5, shuffle=True)\n",
    "kf.get_n_splits(X_train, y_train)\n",
    "\n",
    "for k, (train, test) in enumerate(kf.split(X_train, y_train)):\n",
    "    clf.fit(X_train[train], y_train[train])\n",
    "    f1s_fm = f1_score(y_train[test], clf.predict(X_train[test]), pos_label=1)\n",
    "    f1s_afm = f1_score(y_train[test], clf.predict(X_train[test]), pos_label=0)\n",
    "    fm_scores.append(f1s_fm)\n",
    "    afm_scores.append(f1s_afm)\n",
    "    \n",
    "    print(\"[fold {0}] FM score: {1:.3f}\".format(k, f1s_fm))\n",
    "    print(\"[fold {0}] AFM score: {1:.3f}\".format(k, f1s_afm))\n",
    "\n",
    "fm_scores = np.array(fm_scores)\n",
    "afm_scores = np.array(afm_scores)\n",
    "print('FM Mean: %.2f median: %.2f stdev: %.2f' % (np.mean(fm_scores), np.median(fm_scores), np.std(fm_scores)))\n",
    "print('AFM Mean: %.2f median: %.2f stdev: %.2f' % (np.mean(afm_scores), np.median(afm_scores), np.std(afm_scores)))"
   ]
  },
  {
   "cell_type": "code",
   "execution_count": 8,
   "metadata": {},
   "outputs": [],
   "source": [
    "X_test = pd.read_json(datadir + 'X_test.json')\n",
    "X_test = X_test.values\n",
    "y_test = loadfn(datadir + 'y_test.json')"
   ]
  },
  {
   "cell_type": "code",
   "execution_count": 9,
   "metadata": {},
   "outputs": [
    {
     "data": {
      "text/plain": [
       "0.8"
      ]
     },
     "execution_count": 9,
     "metadata": {},
     "output_type": "execute_result"
    }
   ],
   "source": [
    "round(clf.score(X_test, y_test), 2)"
   ]
  },
  {
   "cell_type": "code",
   "execution_count": 10,
   "metadata": {},
   "outputs": [
    {
     "name": "stdout",
     "output_type": "stream",
     "text": [
      "              precision    recall  f1-score   support\n",
      "\n",
      "         AFM       0.88      0.84      0.86       236\n",
      "          FM       0.59      0.67      0.63        79\n",
      "\n",
      "    accuracy                           0.80       315\n",
      "   macro avg       0.74      0.76      0.75       315\n",
      "weighted avg       0.81      0.80      0.80       315\n",
      "\n"
     ]
    }
   ],
   "source": [
    "print(classification_report(y_test, clf.predict(X_test), target_names=[\"AFM\", \"FM\"]))"
   ]
  },
  {
   "cell_type": "markdown",
   "metadata": {},
   "source": [
    "### Machine learning model for magnetic topological phase classification\n",
    "MAGNDATA and appropriate citations available from:\n",
    "* https://arxiv.org/ftp/arxiv/papers/2003/2003.00012.pdf and\n",
    "* https://www.topologicalquantumchemistry.fr/magnetic/index.html\n",
    "* http://webbdcrista1.ehu.es/magndata/"
   ]
  },
  {
   "cell_type": "code",
   "execution_count": 11,
   "metadata": {},
   "outputs": [],
   "source": [
    "X_train = pd.read_json(datadir + 'mtm_X_train.json')\n",
    "X_train = X_train.values\n",
    "y_train = loadfn(datadir + 'mtm_y_train.json')"
   ]
  },
  {
   "cell_type": "markdown",
   "metadata": {},
   "source": [
    "Most important features to consider are values and averages of symmetry- and orbital-related descriptors. Some examples are:\n",
    "* Number of $d$ valence electrons\n",
    "* Spacegroup number\n",
    "* Number of unfilled $f$ orbitals\n",
    "* Crystal system"
   ]
  },
  {
   "cell_type": "code",
   "execution_count": 12,
   "metadata": {},
   "outputs": [],
   "source": [
    "clf = load(modeldir + 'mag_topo_clf.joblib')"
   ]
  },
  {
   "cell_type": "code",
   "execution_count": 13,
   "metadata": {},
   "outputs": [
    {
     "name": "stdout",
     "output_type": "stream",
     "text": [
      "[fold 0] Topological score: 0.683\n",
      "[fold 0] Trivial score: 0.711\n",
      "[fold 1] Topological score: 0.725\n",
      "[fold 1] Trivial score: 0.816\n",
      "[fold 2] Topological score: 0.691\n",
      "[fold 2] Trivial score: 0.725\n",
      "[fold 3] Topological score: 0.791\n",
      "[fold 3] Trivial score: 0.759\n",
      "[fold 4] Topological score: 0.828\n",
      "[fold 4] Trivial score: 0.819\n",
      "Topological Mean: 0.74 median: 0.72 stdev: 0.06\n",
      "Trivial Mean: 0.77 median: 0.76 stdev: 0.04\n"
     ]
    }
   ],
   "source": [
    "topo_scores = []\n",
    "triv_scores = []\n",
    "\n",
    "kf = KFold(n_splits=5, shuffle=True)\n",
    "kf.get_n_splits(X_train, y_train)\n",
    "\n",
    "for k, (train, test) in enumerate(kf.split(X_train, y_train)):\n",
    "    clf.fit(X_train[train], y_train[train])\n",
    "    f1s_topo = f1_score(y_train[test], clf.predict(X_train[test]), pos_label=1)\n",
    "    f1s_triv = f1_score(y_train[test], clf.predict(X_train[test]), pos_label=0)\n",
    "    topo_scores.append(f1s_topo)\n",
    "    triv_scores.append(f1s_triv)\n",
    "    \n",
    "    print(\"[fold {0}] Topological score: {1:.3f}\".format(k, f1s_topo))\n",
    "    print(\"[fold {0}] Trivial score: {1:.3f}\".format(k, f1s_triv))\n",
    "\n",
    "topo_scores = np.array(topo_scores)\n",
    "triv_scores = np.array(triv_scores)\n",
    "print('Topological Mean: %.2f median: %.2f stdev: %.2f' % (np.mean(topo_scores), np.median(topo_scores), np.std(topo_scores)))\n",
    "print('Trivial Mean: %.2f median: %.2f stdev: %.2f' % (np.mean(triv_scores), np.median(triv_scores), np.std(triv_scores)))"
   ]
  },
  {
   "cell_type": "code",
   "execution_count": 15,
   "metadata": {},
   "outputs": [],
   "source": [
    "X_test = pd.read_json(datadir + 'mtm_X_test.json')\n",
    "X_test = X_test.values\n",
    "y_test = loadfn(datadir + 'mtm_y_test.json')"
   ]
  },
  {
   "cell_type": "code",
   "execution_count": 16,
   "metadata": {},
   "outputs": [
    {
     "data": {
      "text/plain": [
       "0.72"
      ]
     },
     "execution_count": 16,
     "metadata": {},
     "output_type": "execute_result"
    }
   ],
   "source": [
    "round(clf.score(X_test, y_test), 2)"
   ]
  },
  {
   "cell_type": "code",
   "execution_count": 17,
   "metadata": {},
   "outputs": [
    {
     "name": "stdout",
     "output_type": "stream",
     "text": [
      "              precision    recall  f1-score   support\n",
      "\n",
      "     Trivial       0.87      0.71      0.78        28\n",
      " Topological       0.50      0.73      0.59        11\n",
      "\n",
      "    accuracy                           0.72        39\n",
      "   macro avg       0.68      0.72      0.69        39\n",
      "weighted avg       0.77      0.72      0.73        39\n",
      "\n"
     ]
    }
   ],
   "source": [
    "print(classification_report(y_test, clf.predict(X_test), target_names=[\"Trivial\", \"Topological\"]))"
   ]
  }
 ],
 "metadata": {
  "kernelspec": {
   "display_name": "FastAIEnv",
   "language": "python",
   "name": "fastai_env"
  },
  "language_info": {
   "codemirror_mode": {
    "name": "ipython",
    "version": 3
   },
   "file_extension": ".py",
   "mimetype": "text/x-python",
   "name": "python",
   "nbconvert_exporter": "python",
   "pygments_lexer": "ipython3",
   "version": "3.7.6"
  }
 },
 "nbformat": 4,
 "nbformat_minor": 4
}
